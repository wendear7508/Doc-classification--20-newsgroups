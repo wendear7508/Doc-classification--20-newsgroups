{
 "cells": [
  {
   "cell_type": "code",
   "execution_count": 1,
   "metadata": {},
   "outputs": [
    {
     "name": "stderr",
     "output_type": "stream",
     "text": [
      "/Applications/anaconda/envs/dlnd-tf-lab/lib/python3.5/site-packages/h5py/__init__.py:36: FutureWarning: Conversion of the second argument of issubdtype from `float` to `np.floating` is deprecated. In future, it will be treated as `np.float64 == np.dtype(float).type`.\n",
      "  from ._conv import register_converters as _register_converters\n",
      "Using TensorFlow backend.\n"
     ]
    }
   ],
   "source": [
    "import matplotlib.pyplot as plt\n",
    "import numpy as np\n",
    "import pickle\n",
    "from keras.preprocessing.text import Tokenizer"
   ]
  },
  {
   "cell_type": "code",
   "execution_count": 2,
   "metadata": {},
   "outputs": [
    {
     "name": "stdout",
     "output_type": "stream",
     "text": [
      "[nltk_data] Downloading package wordnet to /Users/bo/nltk_data...\n",
      "[nltk_data]   Package wordnet is already up-to-date!\n"
     ]
    },
    {
     "data": {
      "text/plain": [
       "True"
      ]
     },
     "execution_count": 2,
     "metadata": {},
     "output_type": "execute_result"
    }
   ],
   "source": [
    "import nltk\n",
    "from nltk.stem import WordNetLemmatizer\n",
    "from nltk.stem import LancasterStemmer\n",
    "nltk.download('wordnet')"
   ]
  },
  {
   "cell_type": "code",
   "execution_count": 3,
   "metadata": {},
   "outputs": [],
   "source": [
    "from sklearn.datasets import fetch_20newsgroups\n",
    "\n",
    "ng_train = fetch_20newsgroups(subset = 'train')# default shuffle = True, random_state = 42\n",
    "ng_test = fetch_20newsgroups(subset = 'test')\n",
    "\n",
    "texts_train = ng_train.data\n",
    "texts_test = ng_test.data\n",
    "labels_train = ng_train.target\n",
    "labels_test = ng_test.target\n",
    "\n",
    "target_names = ng_train.target_names\n",
    "file_names = ng_train.filenames"
   ]
  },
  {
   "cell_type": "code",
   "execution_count": 4,
   "metadata": {},
   "outputs": [
    {
     "name": "stdout",
     "output_type": "stream",
     "text": [
      "11314 7532 11314 7532 20\n"
     ]
    }
   ],
   "source": [
    "print (len(texts_train),len(texts_test),len(labels_train),len(labels_test),len(target_names))"
   ]
  },
  {
   "cell_type": "code",
   "execution_count": 5,
   "metadata": {},
   "outputs": [
    {
     "name": "stdout",
     "output_type": "stream",
     "text": [
      "283.6560012734798\n",
      "287.4701255082199\n",
      "277.92671269251196\n"
     ]
    }
   ],
   "source": [
    "lens_train_raw = np.array([len(text.split()) for text in texts_train])\n",
    "lens_test_raw = np.array([len(text.split()) for text in texts_test])\n",
    "lens_raw = np.concatenate([lens_train_raw,lens_test_raw])\n",
    "\n",
    "print (np.mean(lens_raw))\n",
    "print (np.mean(lens_train_raw))\n",
    "print (np.mean(lens_test_raw))"
   ]
  },
  {
   "cell_type": "code",
   "execution_count": 6,
   "metadata": {},
   "outputs": [
    {
     "name": "stdout",
     "output_type": "stream",
     "text": [
      "From: lerxst@wam.umd.edu (where's my thing)\n",
      "Subject: WHAT car is this!?\n",
      "Nntp-Posting-Host: rac3.wam.umd.edu\n",
      "Organization: University of Maryland, College Park\n",
      "Lines: 15\n",
      "\n",
      " I was wondering if anyone out there could enlighten me on this car I saw\n",
      "the other day. It was a 2-door sports car, looked to be from the late 60s/\n",
      "early 70s. It was called a Bricklin. The doors were really small. In addition,\n",
      "the front bumper was separate from the rest of the body. This is \n",
      "all I know. If anyone can tellme a model name, engine specs, years\n",
      "of production, where this car is made, history, or whatever info you\n",
      "have on this funky looking car, please e-mail.\n",
      "\n",
      "Thanks,\n",
      "- IL\n",
      "   ---- brought to you by your neighborhood Lerxst ----\n",
      "\n",
      "\n",
      "\n",
      "\n",
      "\n",
      "7\n",
      "rec.autos\n",
      "/Users/bo/scikit_learn_data/20news_home/20news-bydate-train/rec.autos/102994\n"
     ]
    }
   ],
   "source": [
    "print (texts_train[0])\n",
    "print (labels_train[0])\n",
    "print (target_names[labels_train[0]])\n",
    "print (file_names[0])"
   ]
  },
  {
   "cell_type": "markdown",
   "metadata": {},
   "source": [
    "## Preprocess the data"
   ]
  },
  {
   "cell_type": "markdown",
   "metadata": {},
   "source": [
    "### 1. Remove punctuation"
   ]
  },
  {
   "cell_type": "code",
   "execution_count": 7,
   "metadata": {},
   "outputs": [],
   "source": [
    "# build a function to remove punctuation\n",
    "def remove_punc(texts):\n",
    "    punc = '!\"#$%&()*+,-./:;<=>?@[\\]^_`{|}~'\n",
    "    new_texts = []\n",
    "    for text in texts:\n",
    "        for c in text:\n",
    "            if c in punc:\n",
    "                text = text.replace(c,' ')\n",
    "        new_texts.append(text)\n",
    "    return new_texts"
   ]
  },
  {
   "cell_type": "code",
   "execution_count": 8,
   "metadata": {},
   "outputs": [],
   "source": [
    "# remove punctuation from original corpus\n",
    "texts_train_np = remove_punc(texts_train)\n",
    "texts_test_np = remove_punc(texts_test)"
   ]
  },
  {
   "cell_type": "code",
   "execution_count": 9,
   "metadata": {},
   "outputs": [
    {
     "name": "stdout",
     "output_type": "stream",
     "text": [
      "From  lerxst wam umd edu  where's my thing \n",
      "Subject  WHAT car is this  \n",
      "Nntp Posting Host  rac3 wam umd edu\n",
      "Organization  University of Maryland  College Park\n",
      "Lines  15\n",
      "\n",
      " I was wondering if anyone out there could enlighten me on this car I saw\n",
      "the other day  It was a 2 door sports car  looked to be from the late 60s \n",
      "early 70s  It was called a Bricklin  The doors were really small  In addition \n",
      "the front bumper was separate from the rest of the body  This is \n",
      "all I know  If anyone can tellme a model name  engine specs  years\n",
      "of production  where this car is made  history  or whatever info you\n",
      "have on this funky looking car  please e mail \n",
      "\n",
      "Thanks \n",
      "  IL\n",
      "        brought to you by your neighborhood Lerxst     \n",
      "\n",
      "\n",
      "\n",
      "\n",
      "\n"
     ]
    }
   ],
   "source": [
    "# print the first text without punc\n",
    "print (texts_train_np[0])"
   ]
  },
  {
   "cell_type": "code",
   "execution_count": 10,
   "metadata": {},
   "outputs": [],
   "source": [
    "with open(\"dataset.txt\",'w') as f:\n",
    "    f.truncate()\n",
    "    f.writelines(texts_train_np)\n",
    "    f.writelines(texts_test_np)"
   ]
  },
  {
   "cell_type": "code",
   "execution_count": 11,
   "metadata": {},
   "outputs": [
    {
     "data": {
      "text/plain": [
       "179173"
      ]
     },
     "execution_count": 11,
     "metadata": {},
     "output_type": "execute_result"
    }
   ],
   "source": [
    "unique_words = set(w.lower() for w in open('dataset.txt').read().split())\n",
    "len(unique_words)"
   ]
  },
  {
   "cell_type": "markdown",
   "metadata": {},
   "source": [
    "### 2. Remove stopwords"
   ]
  },
  {
   "cell_type": "code",
   "execution_count": 12,
   "metadata": {},
   "outputs": [
    {
     "name": "stdout",
     "output_type": "stream",
     "text": [
      "The list's length: 6236\n",
      "The first 10 Stopwords: ['a', 'able', 'about', 'above', 'according', 'accordingly', 'across', 'actually', 'after', 'afterwards']\n"
     ]
    }
   ],
   "source": [
    "# build stop list\n",
    "import os\n",
    "import pandas as pd\n",
    "\n",
    "stop_list = pd.read_csv('stoplist.csv')\n",
    "stop_list = list(stop_list[\"'\"])\n",
    "\n",
    "print (\"The list's length:\",len(stop_list))\n",
    "print (\"The first 10 Stopwords:\",stop_list[:10])"
   ]
  },
  {
   "cell_type": "code",
   "execution_count": 13,
   "metadata": {},
   "outputs": [],
   "source": [
    "# build a function to remove stopwords from the original corpus\n",
    "def remove_stopwords(texts,stop_list):\n",
    "    texts_nswds = []\n",
    "    for text in texts:\n",
    "        word_list = text.split() # turn each text to a list of words\n",
    "        new_text = []\n",
    "        for word in word_list:\n",
    "            if word not in stop_list:\n",
    "                new_text.append(word)\n",
    "        texts_nswds.append(new_text)\n",
    "    return texts_nswds   "
   ]
  },
  {
   "cell_type": "code",
   "execution_count": 14,
   "metadata": {},
   "outputs": [
    {
     "name": "stdout",
     "output_type": "stream",
     "text": [
      "time cost for removing stopwords from texts_train_ns: 191.32467818260193\n",
      "time cost for removing stopwords from texts_test_ns: 115.46167802810669\n"
     ]
    }
   ],
   "source": [
    "# remove stopwords from texts_train_1 and texts_test_1\n",
    "import time\n",
    "time0 = time.time()\n",
    "texts_train_ns = remove_stopwords(texts_train_np,stop_list)\n",
    "time1 = time.time() - time0\n",
    "print (\"time cost for removing stopwords from texts_train_ns:\",time1)\n",
    "time2 = time.time()\n",
    "texts_test_ns = remove_stopwords(texts_test_np,stop_list)\n",
    "time3 = time.time() - time2\n",
    "print (\"time cost for removing stopwords from texts_test_ns:\",time3)"
   ]
  },
  {
   "cell_type": "code",
   "execution_count": 15,
   "metadata": {},
   "outputs": [
    {
     "name": "stdout",
     "output_type": "stream",
     "text": [
      "['From', 'lerxst', 'wam', 'umd', 'Subject', 'WHAT', 'car', 'Nntp', 'Posting', 'Host', 'rac3', 'wam', 'umd', 'Organization', 'University', 'Maryland', 'College', 'Park', 'Lines', '15', 'I', 'wondering', 'enlighten', 'car', 'I', 'day', 'It', 'door', 'sports', 'car', 'looked', 'late', '60s', 'early', '70s', 'It', 'called', 'Bricklin', 'The', 'doors', 'small', 'In', 'addition', 'front', 'bumper', 'separate', 'rest', 'body', 'This', 'I', 'If', 'tellme', 'model', 'engine', 'specs', 'years', 'production', 'car', 'history', 'info', 'funky', 'car', 'mail', 'Thanks', 'IL', 'brought', 'neighborhood', 'Lerxst']\n"
     ]
    }
   ],
   "source": [
    "print (texts_train_ns[0])"
   ]
  },
  {
   "cell_type": "markdown",
   "metadata": {},
   "source": [
    "## According to the comparison of coverage below, between texts_train_ns and texts_train_ls, it's better to fit our classifier with texts_train_ns."
   ]
  },
  {
   "cell_type": "code",
   "execution_count": 16,
   "metadata": {},
   "outputs": [],
   "source": [
    "# bring texts_train_ns back to list of texts instead of lists\n",
    "texts_train_ns_join = [\" \".join(text) for text in texts_train_ns]"
   ]
  },
  {
   "cell_type": "code",
   "execution_count": 17,
   "metadata": {},
   "outputs": [],
   "source": [
    "tokenizer = Tokenizer(num_words = 20000)\n",
    "tokenizer.fit_on_texts(texts_train_ns_join)\n",
    "word_index = tokenizer.word_index"
   ]
  },
  {
   "cell_type": "code",
   "execution_count": 22,
   "metadata": {},
   "outputs": [],
   "source": [
    "def coverage(word_index,vocab_of_embedding):\n",
    "    count = 0\n",
    "    for word,idx in word_index.items():\n",
    "        if idx > 20000:\n",
    "            continue\n",
    "        if word in vocab_of_embedding:\n",
    "            count += 1\n",
    "    return (count/20000)"
   ]
  },
  {
   "cell_type": "markdown",
   "metadata": {},
   "source": [
    "#### Calculate how many of the top 20k words in texts_train_ns  are included in the pretrained glove 6B 100d word embeddings"
   ]
  },
  {
   "cell_type": "code",
   "execution_count": 18,
   "metadata": {},
   "outputs": [
    {
     "name": "stdout",
     "output_type": "stream",
     "text": [
      "Loaded GloVe!\n"
     ]
    }
   ],
   "source": [
    "# load pretrained word embeddings:glove.6B.100d.txt\n",
    "\n",
    "\n",
    "filename_100d = 'glove.6B.100d.txt' ## this file 'glove.6B.100d.txt' is composed of lines with each line containning a word and its embedding.\n",
    "\n",
    "## store words and their embeddings in separate lists, then turn embedding list to np array.\n",
    "\n",
    "def loadGloVe(filename):\n",
    "    vocab = []\n",
    "    embd = []\n",
    "    #with open (filename,'r') as f:\n",
    "        #emb_size = len(f.readline().strip().split(' '))-1\n",
    "    #vocab.append('unk') #load unknown words\n",
    "    #embd.append([0]*emb_size)\n",
    "    \n",
    "    file = open(filename,'r')\n",
    "    for line in file:\n",
    "        row = line.strip().split(' ')\n",
    "        vocab.append(row[0])\n",
    "        embd.append(row[1:])\n",
    "    print('Loaded GloVe!')\n",
    "    file.close()\n",
    "    return vocab,embd\n",
    "\n",
    "vocab_100d,embd_100d = loadGloVe(filename_100d)"
   ]
  },
  {
   "cell_type": "code",
   "execution_count": 19,
   "metadata": {},
   "outputs": [
    {
     "name": "stdout",
     "output_type": "stream",
     "text": [
      "400000 100\n"
     ]
    }
   ],
   "source": [
    "vocab_100d_size = len(vocab_100d)\n",
    "embedding_100d_dim = len(embd_100d[0])\n",
    "print (vocab_100d_size,embedding_100d_dim)"
   ]
  },
  {
   "cell_type": "code",
   "execution_count": 23,
   "metadata": {},
   "outputs": [],
   "source": [
    "cov_100d = coverage(word_index,vocab_100d)"
   ]
  },
  {
   "cell_type": "code",
   "execution_count": 24,
   "metadata": {},
   "outputs": [
    {
     "name": "stdout",
     "output_type": "stream",
     "text": [
      "86.81 percent of the top 20,000 words in the trainset is covered by the embeddings.\n"
     ]
    }
   ],
   "source": [
    "print (\"%.2f percent of the top 20,000 words in the trainset is covered by the embeddings.\"%(100*cov_100d))"
   ]
  },
  {
   "cell_type": "markdown",
   "metadata": {},
   "source": [
    "#### Calculate how many of the top 20k words in texts_train_ns  are included in the pretrained glove 840B 300d word embeddings"
   ]
  },
  {
   "cell_type": "code",
   "execution_count": 25,
   "metadata": {},
   "outputs": [
    {
     "name": "stdout",
     "output_type": "stream",
     "text": [
      "Loaded GloVe!\n",
      "794.769031047821\n"
     ]
    }
   ],
   "source": [
    "# load pretrained word embeddings:glove.6B.100d.txt\n",
    "\n",
    "\n",
    "filename_300d = 'glove.840B.300d.txt' ## this file 'glove.6B.100d.txt' is composed of lines with each line containning a word and its embedding.\n",
    "\n",
    "## store words and their embeddings in separate lists, then turn embedding list to np array.\n",
    "\n",
    "def loadGloVe(filename):\n",
    "    vocab = []\n",
    "    embd = []\n",
    "    #with open (filename,'r') as f:\n",
    "        #emb_size = len(f.readline().strip().split(' '))-1\n",
    "    #vocab.append('unk') #load unknown words\n",
    "    #embd.append([0]*emb_size)\n",
    "    \n",
    "    file = open(filename,'r')\n",
    "    for line in file:\n",
    "        row = line.strip().split(' ')\n",
    "        vocab.append(row[0])\n",
    "        embd.append(row[1:])\n",
    "    print('Loaded GloVe!')\n",
    "    file.close()\n",
    "    return vocab,embd\n",
    "\n",
    "import time\n",
    "time0 = time.time()\n",
    "vocab,embd = loadGloVe(filename_300d)\n",
    "time_cost = time.time()-time0\n",
    "print (time_cost)"
   ]
  },
  {
   "cell_type": "code",
   "execution_count": 27,
   "metadata": {},
   "outputs": [
    {
     "name": "stdout",
     "output_type": "stream",
     "text": [
      "2196017 300\n"
     ]
    }
   ],
   "source": [
    "vocab_size = len(vocab)\n",
    "embedding_dim = len(embd[0])\n",
    "print(vocab_size,embedding_dim)"
   ]
  },
  {
   "cell_type": "code",
   "execution_count": 28,
   "metadata": {},
   "outputs": [],
   "source": [
    "cov_300d = coverage(word_index,vocab)"
   ]
  },
  {
   "cell_type": "code",
   "execution_count": 29,
   "metadata": {},
   "outputs": [
    {
     "name": "stdout",
     "output_type": "stream",
     "text": [
      "87.77 percent of the top 20,000 words in the trainset is covered by glove.840B.300d embeddings.\n"
     ]
    }
   ],
   "source": [
    "print (\"%.2f percent of the top 20,000 words in the trainset is covered by glove.840B.300d embeddings.\"%(100*cov_300d))"
   ]
  },
  {
   "cell_type": "markdown",
   "metadata": {},
   "source": [
    "### 3. Lemmatization"
   ]
  },
  {
   "cell_type": "code",
   "execution_count": 30,
   "metadata": {},
   "outputs": [],
   "source": [
    "# build a func for lemmatization \n",
    "def lemmatize(text_list):\n",
    "    lmtzer = WordNetLemmatizer()\n",
    "    \n",
    "    new_texts = [] # list of list of words\n",
    "     \n",
    "    for list in text_list: # text is a list of words\n",
    "        new_text = '' # list of words\n",
    "        for word in list:\n",
    "            ld_wrd = lmtzer.lemmatize(word)\n",
    "            new_text += ld_wrd\n",
    "            new_text += ' '\n",
    "        new_texts.append(new_text)\n",
    "        \n",
    "    return new_texts"
   ]
  },
  {
   "cell_type": "code",
   "execution_count": 31,
   "metadata": {},
   "outputs": [
    {
     "name": "stdout",
     "output_type": "stream",
     "text": [
      "time cost for lemmatizing texts_train_ns: 13.74 s\n",
      "time cost for lemmatizing texts_test_ns: 6.53 s\n"
     ]
    }
   ],
   "source": [
    "# lemmatization of the original corpus\n",
    "time0 = time.time()\n",
    "texts_train_ls = lemmatize(texts_train_ns)\n",
    "time1 = time.time() - time0\n",
    "print (\"time cost for lemmatizing texts_train_ns:\",round(time1,2),\"s\")\n",
    "time2 = time.time()\n",
    "texts_test_ls = lemmatize(texts_test_ns)\n",
    "time3 = time.time() - time2\n",
    "print (\"time cost for lemmatizing texts_test_ns:\",round(time3,2),\"s\")"
   ]
  },
  {
   "cell_type": "code",
   "execution_count": 32,
   "metadata": {},
   "outputs": [
    {
     "name": "stdout",
     "output_type": "stream",
     "text": [
      "From lerxst wam umd Subject WHAT car Nntp Posting Host rac3 wam umd Organization University Maryland College Park Lines 15 I wondering enlighten car I day It door sport car looked late 60 early 70 It called Bricklin The door small In addition front bumper separate rest body This I If tellme model engine spec year production car history info funky car mail Thanks IL brought neighborhood Lerxst \n"
     ]
    }
   ],
   "source": [
    "print (texts_train_ls[0]) "
   ]
  },
  {
   "cell_type": "markdown",
   "metadata": {},
   "source": [
    "#### Calculate how many of the top 20k words in texts_train_ls  are included in the pretrained word embeddings"
   ]
  },
  {
   "cell_type": "code",
   "execution_count": 33,
   "metadata": {},
   "outputs": [],
   "source": [
    "tokenizer_ls = Tokenizer(num_words = 20000)\n",
    "tokenizer_ls.fit_on_texts(texts_train_ls)"
   ]
  },
  {
   "cell_type": "code",
   "execution_count": 34,
   "metadata": {},
   "outputs": [],
   "source": [
    "word_index_ls = tokenizer_ls.word_index"
   ]
  },
  {
   "cell_type": "code",
   "execution_count": 35,
   "metadata": {},
   "outputs": [
    {
     "name": "stdout",
     "output_type": "stream",
     "text": [
      "85.36 percent of the top 20,000 words in the trainset is covered by the embeddings.\n"
     ]
    }
   ],
   "source": [
    "# calculation for 100d\n",
    "cov_ls_100d = coverage(word_index_ls,vocab_100d)\n",
    "print (\"%.2f percent of the top 20,000 words in the trainset is covered by the embeddings.\"%(100*cov_ls_100d))"
   ]
  },
  {
   "cell_type": "code",
   "execution_count": 36,
   "metadata": {},
   "outputs": [
    {
     "name": "stdout",
     "output_type": "stream",
     "text": [
      "86.42 percent of the top 20,000 words in the trainset is covered by the embeddings.\n"
     ]
    }
   ],
   "source": [
    "# calculation for 300d\n",
    "cov_ls_300d = coverage(word_index_ls,vocab)\n",
    "print (\"%.2f percent of the top 20,000 words in the trainset is covered by the embeddings.\"%(100*cov_ls_300d))"
   ]
  },
  {
   "cell_type": "markdown",
   "metadata": {},
   "source": [
    "#### Calculate how many of the top 20k words in texts_train_ls  are included in the pretrained glove.840B.300d word embeddings"
   ]
  },
  {
   "cell_type": "markdown",
   "metadata": {},
   "source": [
    "## Visualization"
   ]
  },
  {
   "cell_type": "code",
   "execution_count": 71,
   "metadata": {},
   "outputs": [
    {
     "data": {
      "text/plain": [
       "<matplotlib.text.Text at 0x1a2be51048>"
      ]
     },
     "execution_count": 71,
     "metadata": {},
     "output_type": "execute_result"
    },
    {
     "data": {
      "image/png": "[encoded data removed]",
      "text/plain": [
       "<matplotlib.figure.Figure at 0x1a2d180898>"
      ]
     },
     "metadata": {},
     "output_type": "display_data"
    }
   ],
   "source": [
    "plt.style.use(\"ggplot\")\n",
    "\n",
    "plt.hist(labels_train,bins = 20,color = 'blue')\n",
    "plt.xlabel('Categories of the training set',fontsize = 12)\n",
    "plt.ylabel('Frequencies',fontsize = 12)\n",
    "plt.title(\"Distribution of categories in the trainning set\")"
   ]
  },
  {
   "cell_type": "code",
   "execution_count": 62,
   "metadata": {},
   "outputs": [
    {
     "data": {
      "text/plain": [
       "<matplotlib.text.Text at 0x1a2c680da0>"
      ]
     },
     "execution_count": 62,
     "metadata": {},
     "output_type": "execute_result"
    },
    {
     "data": {
      "image/png": "[encoded data removed]",
      "text/plain": [
       "<matplotlib.figure.Figure at 0x1a2c61a940>"
      ]
     },
     "metadata": {},
     "output_type": "display_data"
    }
   ],
   "source": [
    "plt.style.use(\"ggplot\")\n",
    "\n",
    "plt.hist(labels_test,bins = 20,color = 'orange')\n",
    "plt.xlabel('Categories of the test set',fontsize = 12)\n",
    "plt.ylabel('Frequencies',fontsize = 12)\n",
    "plt.title(\"Distribution of categories in the test set\")"
   ]
  },
  {
   "cell_type": "code",
   "execution_count": 73,
   "metadata": {},
   "outputs": [
    {
     "name": "stdout",
     "output_type": "stream",
     "text": [
      "13 35201 178.7682797410591\n"
     ]
    },
    {
     "data": {
      "text/plain": [
       "<matplotlib.text.Text at 0x1a2d4630b8>"
      ]
     },
     "execution_count": 73,
     "metadata": {},
     "output_type": "execute_result"
    },
    {
     "data": {
      "image/png": "[encoded data removed]",
      "text/plain": [
       "<matplotlib.figure.Figure at 0x1a2d437ba8>"
      ]
     },
     "metadata": {},
     "output_type": "display_data"
    }
   ],
   "source": [
    "lens_train = np.array([len(text.split()) for text in texts_train_ls])\n",
    "lens_test = np.array([len(text.split()) for text in texts_test_ls])\n",
    "lens = np.concatenate([lens_train,lens_test])\n",
    "\n",
    "print (min(lens),max(lens),np.mean(lens))\n",
    "\n",
    "plt.style.use(\"ggplot\")\n",
    "\n",
    "plt.hist(lens,color = 'b')\n",
    "plt.xlabel('Text length by words',fontsize = 12)\n",
    "plt.ylabel('Frequencies',fontsize = 12)\n",
    "plt.title(\"Distribution of text lengths - all texts\")"
   ]
  },
  {
   "cell_type": "code",
   "execution_count": 74,
   "metadata": {},
   "outputs": [
    {
     "data": {
      "text/plain": [
       "<matplotlib.text.Text at 0x1a2bd668d0>"
      ]
     },
     "execution_count": 74,
     "metadata": {},
     "output_type": "execute_result"
    },
    {
     "data": {
      "image/png": "[encoded data removed]",
      "text/plain": [
       "<matplotlib.figure.Figure at 0x1a2d44e5f8>"
      ]
     },
     "metadata": {},
     "output_type": "display_data"
    }
   ],
   "source": [
    "sub_lens = np.array([x for x in lens if x < 2000 ])\n",
    "\n",
    "plt.style.use(\"ggplot\")\n",
    "\n",
    "plt.hist(sub_lens,color = 'b')\n",
    "plt.xlabel('text length by words',fontsize = 12)\n",
    "plt.ylabel('frequencies',fontsize = 12)\n",
    "plt.title(\"Distribution of text lengths - texts with words < 2000\")"
   ]
  },
  {
   "cell_type": "code",
   "execution_count": 85,
   "metadata": {},
   "outputs": [],
   "source": [
    "# bring texts_test_ns back to list of texts instead of lists.\n",
    "texts_test_ns_join = [\" \".join(text) for text in texts_test_ns]\n",
    "# save the preprocessed data.\n",
    "with open(\"Preprocessed data for CNN - update.txt\",'wb') as f:\n",
    "    pickle.dump(texts_train_ns_join,f)\n",
    "    pickle.dump(texts_test_ns_join,f)\n",
    "    pickle.dump(labels_train,f)\n",
    "    pickle.dump(labels_test,f)"
   ]
  }
 ],
 "metadata": {
  "kernelspec": {
   "display_name": "Python 3",
   "language": "python",
   "name": "python3"
  },
  "language_info": {
   "codemirror_mode": {
    "name": "ipython",
    "version": 3
   },
   "file_extension": ".py",
   "mimetype": "text/x-python",
   "name": "python",
   "nbconvert_exporter": "python",
   "pygments_lexer": "ipython3",
   "version": "3.5.4"
  }
 },
 "nbformat": 4,
 "nbformat_minor": 2
}
