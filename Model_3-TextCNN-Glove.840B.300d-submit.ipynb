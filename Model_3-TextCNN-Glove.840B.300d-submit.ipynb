{
 "cells": [
  {
   "cell_type": "code",
   "execution_count": 2,
   "metadata": {
    "scrolled": true
   },
   "outputs": [
    {
     "name": "stderr",
     "output_type": "stream",
     "text": [
      "/Applications/anaconda/envs/dlnd-tf-lab/lib/python3.5/site-packages/h5py/__init__.py:36: FutureWarning: Conversion of the second argument of issubdtype from `float` to `np.floating` is deprecated. In future, it will be treated as `np.float64 == np.dtype(float).type`.\n",
      "  from ._conv import register_converters as _register_converters\n",
      "Using TensorFlow backend.\n"
     ]
    }
   ],
   "source": [
    "import tensorflow as tf\n",
    "import numpy as np\n",
    "from keras.preprocessing.text import Tokenizer\n",
    "from keras.preprocessing.sequence import pad_sequences\n",
    "from keras.utils import to_categorical\n",
    "from keras.layers import Embedding\n",
    "from keras.engine.topology import Input\n",
    "from keras.layers import MaxPooling1D,GlobalMaxPooling1D,GlobalAveragePooling1D,Conv1D,Dense,Dropout,regularizers\n",
    "from keras.models import Model,load_model\n",
    "from keras import optimizers\n",
    "import h5py # necessary for saving keras model\n",
    "import numpy as np\n",
    "import pickle\n",
    "from keras.models import Sequential\n",
    "from sklearn.model_selection import train_test_split\n",
    "import matplotlib.pyplot as plt\n",
    "from sklearn.metrics import f1_score,classification_report"
   ]
  },
  {
   "cell_type": "code",
   "execution_count": 3,
   "metadata": {},
   "outputs": [],
   "source": [
    "from keras.layers import Concatenate,GaussianNoise"
   ]
  },
  {
   "cell_type": "code",
   "execution_count": 3,
   "metadata": {},
   "outputs": [
    {
     "name": "stdout",
     "output_type": "stream",
     "text": [
      "Loaded GloVe!\n"
     ]
    }
   ],
   "source": [
    "# first we need to download glove.840B according to README\n",
    "# load pretrained word embeddings:glove.840B.300d.txt\n",
    "\n",
    "filename = 'glove.840B.300d.txt' ## this file 'glove.840B.300d.txt' is composed of lines with each line containning a word and its embedding.\n",
    "\n",
    "## store words and their embeddings in separate lists, then turn embedding list to np array.\n",
    "\n",
    "def loadGloVe(filename):\n",
    "    vocab = []\n",
    "    embd = []\n",
    "    #with open (filename,'r') as f:\n",
    "        #emb_size = len(f.readline().strip().split(' '))-1\n",
    "    #vocab.append('unk') #load unknown words\n",
    "    #embd.append([0]*emb_size)\n",
    "    \n",
    "    file = open(filename,'r')\n",
    "    for line in file:\n",
    "        row = line.strip().split(' ')\n",
    "        vocab.append(row[0])\n",
    "        embd.append(row[1:])\n",
    "    print('Loaded GloVe!')\n",
    "    file.close()\n",
    "    return vocab,embd\n",
    "\n",
    "vocab,embd = loadGloVe(filename)\n",
    "vocab_size = len(vocab)\n",
    "embedding_dim = len(embd[0])"
   ]
  },
  {
   "cell_type": "code",
   "execution_count": 5,
   "metadata": {},
   "outputs": [
    {
     "name": "stdout",
     "output_type": "stream",
     "text": [
      "2196017 300\n"
     ]
    }
   ],
   "source": [
    "print (vocab_size,embedding_dim)"
   ]
  },
  {
   "cell_type": "code",
   "execution_count": 3,
   "metadata": {},
   "outputs": [
    {
     "name": "stdout",
     "output_type": "stream",
     "text": [
      "11314\n",
      "7532\n",
      "11314\n",
      "7532\n"
     ]
    }
   ],
   "source": [
    "# load preprocessed data before vecortization\n",
    "with open(\"Preprocessed data for CNN - update.txt\",'rb') as f:\n",
    "    texts_train_ls = pickle.load(f)\n",
    "    texts_test_ls = pickle.load(f)\n",
    "    labels_train = pickle.load(f)\n",
    "    labels_test = pickle.load(f)\n",
    "print (len(texts_train_ls))\n",
    "print (len(texts_test_ls))\n",
    "print (len(labels_train))\n",
    "print (len(labels_test)) "
   ]
  },
  {
   "cell_type": "code",
   "execution_count": 4,
   "metadata": {},
   "outputs": [
    {
     "name": "stdout",
     "output_type": "stream",
     "text": [
      "133927\n"
     ]
    }
   ],
   "source": [
    "# build vocabulary of the text; elementary vectorization.\n",
    "num_words = 20000\n",
    "max_length = 300\n",
    "\n",
    "tokenizer = Tokenizer(num_words = num_words)\n",
    "tokenizer.fit_on_texts (texts_train_ls)\n",
    "sequences_train = tokenizer.texts_to_sequences(texts_train_ls)\n",
    "sequences_test = tokenizer.texts_to_sequences(texts_test_ls)\n",
    "\n",
    "data_train = pad_sequences(sequences_train,maxlen = max_length)\n",
    "data_test = pad_sequences(sequences_test,maxlen = max_length)\n",
    "\n",
    "word_index = tokenizer.word_index\n",
    "print (len(word_index.items()))"
   ]
  },
  {
   "cell_type": "code",
   "execution_count": 5,
   "metadata": {},
   "outputs": [],
   "source": [
    "targets_train = to_categorical(labels_train)\n",
    "targets_test = to_categorical(labels_test)"
   ]
  },
  {
   "cell_type": "code",
   "execution_count": 10,
   "metadata": {},
   "outputs": [],
   "source": [
    "# build embedding matrix\n",
    "embedding_matrix = np.zeros((num_words+1,embedding_dim))\n",
    "\n",
    "for word,index in word_index.items(): # word_index start with index one, not zero.\n",
    "    if index > num_words:\n",
    "        continue\n",
    "    if word not in vocab:\n",
    "        continue\n",
    "    else:\n",
    "        embedding_matrix[index] = embd[vocab.index(word)]"
   ]
  },
  {
   "cell_type": "code",
   "execution_count": 13,
   "metadata": {},
   "outputs": [],
   "source": [
    "with open(\"embedding_matrix-840B.txt\",'wb') as f1:\n",
    "    pickle.dump(embedding_matrix,f1)"
   ]
  },
  {
   "cell_type": "code",
   "execution_count": 9,
   "metadata": {},
   "outputs": [],
   "source": [
    "with open(\"embedding_matrix-840B.txt\",'rb') as f1:\n",
    "    embedding_matrix = pickle.load(f1)"
   ]
  },
  {
   "cell_type": "code",
   "execution_count": 10,
   "metadata": {},
   "outputs": [],
   "source": [
    "# build embedding layer\n",
    "embedding_layer_d = Embedding(num_words+1,300,weights = [embedding_matrix],input_length = data_train.shape[1],trainable = True)"
   ]
  },
  {
   "cell_type": "code",
   "execution_count": 6,
   "metadata": {},
   "outputs": [],
   "source": [
    "# split the original train set into a new train set and a validation set\n",
    "X_train_d,X_val_d,y_train_d,y_val_d = train_test_split(data_train,targets_train,test_size = 0.2,random_state = 42)"
   ]
  },
  {
   "cell_type": "code",
   "execution_count": 14,
   "metadata": {},
   "outputs": [
    {
     "name": "stdout",
     "output_type": "stream",
     "text": [
      "Train on 9051 samples, validate on 2263 samples\n",
      "Epoch 1/40\n",
      "9051/9051 [==============================] - 184s 20ms/step - loss: 2.1387 - acc: 0.4098 - val_loss: 1.1058 - val_acc: 0.8126\n",
      "Epoch 2/40\n",
      "9051/9051 [==============================] - 186s 21ms/step - loss: 0.7964 - acc: 0.7560 - val_loss: 0.7676 - val_acc: 0.8471\n",
      "Epoch 3/40\n",
      "9051/9051 [==============================] - 189s 21ms/step - loss: 0.5245 - acc: 0.8428 - val_loss: 0.6032 - val_acc: 0.8780\n",
      "Epoch 4/40\n",
      "9051/9051 [==============================] - 187s 21ms/step - loss: 0.3635 - acc: 0.8992 - val_loss: 0.5193 - val_acc: 0.8917\n",
      "Epoch 5/40\n",
      "9051/9051 [==============================] - 190s 21ms/step - loss: 0.2654 - acc: 0.9245 - val_loss: 0.4460 - val_acc: 0.9001\n",
      "Epoch 6/40\n",
      "9051/9051 [==============================] - 193s 21ms/step - loss: 0.2118 - acc: 0.9400 - val_loss: 0.4129 - val_acc: 0.9050\n",
      "Epoch 7/40\n",
      "9051/9051 [==============================] - 187s 21ms/step - loss: 0.1653 - acc: 0.9556 - val_loss: 0.3775 - val_acc: 0.9068\n",
      "Epoch 8/40\n",
      "9051/9051 [==============================] - 187s 21ms/step - loss: 0.1204 - acc: 0.9669 - val_loss: 0.3528 - val_acc: 0.9121\n",
      "Epoch 9/40\n",
      "9051/9051 [==============================] - 187s 21ms/step - loss: 0.0996 - acc: 0.9735 - val_loss: 0.3344 - val_acc: 0.9085\n",
      "Epoch 10/40\n",
      "9051/9051 [==============================] - 187s 21ms/step - loss: 0.0845 - acc: 0.9788 - val_loss: 0.3198 - val_acc: 0.9129\n",
      "Epoch 11/40\n",
      "9051/9051 [==============================] - 187s 21ms/step - loss: 0.0617 - acc: 0.9849 - val_loss: 0.3111 - val_acc: 0.9160\n",
      "Epoch 12/40\n",
      "9051/9051 [==============================] - 188s 21ms/step - loss: 0.0568 - acc: 0.9843 - val_loss: 0.3123 - val_acc: 0.9112\n",
      "Epoch 13/40\n",
      "9051/9051 [==============================] - 187s 21ms/step - loss: 0.0544 - acc: 0.9863 - val_loss: 0.3119 - val_acc: 0.9094\n",
      "Epoch 14/40\n",
      "9051/9051 [==============================] - 188s 21ms/step - loss: 0.0444 - acc: 0.9880 - val_loss: 0.3036 - val_acc: 0.9147\n",
      "Epoch 15/40\n",
      "9051/9051 [==============================] - 189s 21ms/step - loss: 0.0337 - acc: 0.9917 - val_loss: 0.2990 - val_acc: 0.9152\n",
      "Epoch 16/40\n",
      "9051/9051 [==============================] - 194s 21ms/step - loss: 0.0338 - acc: 0.9915 - val_loss: 0.3041 - val_acc: 0.9174\n",
      "Epoch 17/40\n",
      "9051/9051 [==============================] - 196s 22ms/step - loss: 0.0289 - acc: 0.9923 - val_loss: 0.3086 - val_acc: 0.9138\n",
      "Epoch 18/40\n",
      "9051/9051 [==============================] - 206s 23ms/step - loss: 0.0282 - acc: 0.9936 - val_loss: 0.3016 - val_acc: 0.9178\n",
      "Epoch 19/40\n",
      "9051/9051 [==============================] - 197s 22ms/step - loss: 0.0263 - acc: 0.9940 - val_loss: 0.3060 - val_acc: 0.9191\n",
      "Epoch 20/40\n",
      "9051/9051 [==============================] - 196s 22ms/step - loss: 0.0198 - acc: 0.9945 - val_loss: 0.3143 - val_acc: 0.9147\n",
      "Epoch 21/40\n",
      "9051/9051 [==============================] - 197s 22ms/step - loss: 0.0206 - acc: 0.9957 - val_loss: 0.3139 - val_acc: 0.9152\n",
      "Epoch 22/40\n",
      "9051/9051 [==============================] - 195s 22ms/step - loss: 0.0184 - acc: 0.9952 - val_loss: 0.3271 - val_acc: 0.9169\n",
      "Epoch 23/40\n",
      "9051/9051 [==============================] - 195s 22ms/step - loss: 0.0167 - acc: 0.9956 - val_loss: 0.3324 - val_acc: 0.9134\n",
      "Epoch 24/40\n",
      "9051/9051 [==============================] - 200s 22ms/step - loss: 0.0191 - acc: 0.9955 - val_loss: 0.3140 - val_acc: 0.9183\n",
      "Epoch 25/40\n",
      "9051/9051 [==============================] - 191s 21ms/step - loss: 0.0134 - acc: 0.9972 - val_loss: 0.3166 - val_acc: 0.9191\n",
      "Epoch 26/40\n",
      "9051/9051 [==============================] - 195s 21ms/step - loss: 0.0147 - acc: 0.9960 - val_loss: 0.3199 - val_acc: 0.9165\n",
      "Epoch 27/40\n",
      "9051/9051 [==============================] - 197s 22ms/step - loss: 0.0126 - acc: 0.9966 - val_loss: 0.3279 - val_acc: 0.9134\n",
      "Epoch 28/40\n",
      "9051/9051 [==============================] - 187s 21ms/step - loss: 0.0110 - acc: 0.9970 - val_loss: 0.3349 - val_acc: 0.9174\n",
      "Epoch 29/40\n",
      "9051/9051 [==============================] - 187s 21ms/step - loss: 0.0108 - acc: 0.9977 - val_loss: 0.3331 - val_acc: 0.9156\n",
      "Epoch 30/40\n",
      "9051/9051 [==============================] - 187s 21ms/step - loss: 0.0086 - acc: 0.9980 - val_loss: 0.3335 - val_acc: 0.9160\n",
      "Epoch 31/40\n",
      "9051/9051 [==============================] - 207s 23ms/step - loss: 0.0117 - acc: 0.9973 - val_loss: 0.3343 - val_acc: 0.9134\n",
      "Epoch 32/40\n",
      "9051/9051 [==============================] - 201s 22ms/step - loss: 0.0125 - acc: 0.9971 - val_loss: 0.3249 - val_acc: 0.9196\n",
      "Epoch 33/40\n",
      "9051/9051 [==============================] - 188s 21ms/step - loss: 0.0121 - acc: 0.9971 - val_loss: 0.3299 - val_acc: 0.9205\n",
      "Epoch 34/40\n",
      "9051/9051 [==============================] - 187s 21ms/step - loss: 0.0102 - acc: 0.9975 - val_loss: 0.3468 - val_acc: 0.9160\n",
      "Epoch 35/40\n",
      "9051/9051 [==============================] - 186s 21ms/step - loss: 0.0107 - acc: 0.9973 - val_loss: 0.3473 - val_acc: 0.9178\n",
      "Epoch 36/40\n",
      "9051/9051 [==============================] - 189s 21ms/step - loss: 0.0083 - acc: 0.9981 - val_loss: 0.3289 - val_acc: 0.9231\n",
      "Epoch 37/40\n",
      "9051/9051 [==============================] - 186s 20ms/step - loss: 0.0076 - acc: 0.9987 - val_loss: 0.3348 - val_acc: 0.9183\n",
      "Epoch 38/40\n",
      "9051/9051 [==============================] - 193s 21ms/step - loss: 0.0084 - acc: 0.9978 - val_loss: 0.3419 - val_acc: 0.9187\n",
      "Epoch 39/40\n",
      "9051/9051 [==============================] - 192s 21ms/step - loss: 0.0097 - acc: 0.9977 - val_loss: 0.3462 - val_acc: 0.9191\n",
      "Epoch 40/40\n",
      "9051/9051 [==============================] - 187s 21ms/step - loss: 0.0090 - acc: 0.9979 - val_loss: 0.3419 - val_acc: 0.9209\n"
     ]
    }
   ],
   "source": [
    "# build the model\n",
    "# filter_sizes = (2,3,4,5),l2=1e-5, pooling = GlobalMaxPooling+GlobalAvgPooling\n",
    "sequence_input = Input(shape = (data_train.shape[1],),dtype = 'int32')\n",
    "embedded_input = embedding_layer_d(sequence_input)\n",
    "\n",
    "input_x = GaussianNoise(stddev = 0.01)(embedded_input)\n",
    "\n",
    "x1 = Conv1D(128,2,activation = 'relu')(input_x)#,kernel_regularizer = regularizers.l2(0.01)\n",
    "x1 = Dropout(0.5)(x1)\n",
    "\n",
    "x2 = Conv1D(128,3,activation = 'relu')(input_x)#,kernel_regularizer = regularizers.l2(0.01)\n",
    "x2 = Dropout(0.5)(x2)\n",
    "\n",
    "x3 = Conv1D(128,4,activation = 'relu')(input_x)#,kernel_regularizer = regularizers.l2(0.01)\n",
    "x3 = Dropout(0.5)(x3)\n",
    "\n",
    "x4 = Conv1D(128,5,activation = 'relu')(input_x)#,kernel_regularizer = regularizers.l2(0.01)\n",
    "x4 = Dropout(0.5)(x4)\n",
    "\n",
    "x11 = GlobalMaxPooling1D()(x1)# 128 dim vector\n",
    "x21 = GlobalMaxPooling1D()(x2) # 128 dim vector\n",
    "x31 = GlobalMaxPooling1D()(x3) # 128 dim vector\n",
    "x41 = GlobalMaxPooling1D()(x4) # 128 dim vector\n",
    "\n",
    "x12 = GlobalAveragePooling1D()(x1)# 128 dim vector\n",
    "x22 = GlobalAveragePooling1D()(x2) # 128 dim vector\n",
    "x32 = GlobalAveragePooling1D()(x3) # 128 dim vector\n",
    "x42 = GlobalAveragePooling1D()(x4) # 128 dim vector\n",
    "\n",
    "x = Concatenate(axis=-1)([x11,x12,x21,x22,x31,x32,x41,x42])\n",
    "x = Dropout(0.5)(x)\n",
    "\n",
    "preds = Dense(y_train_d.shape[1], activation='softmax',kernel_regularizer = regularizers.l2(1e-5))(x)\n",
    "\n",
    "model_d = Model(sequence_input,preds)\n",
    "optimizer = optimizers.RMSprop(lr=0.001, rho=0.9, epsilon=None)#'rmsprop', decay=0.1\n",
    "model_d.compile(loss = 'categorical_crossentropy',optimizer=optimizer,metrics=['acc'])\n",
    "\n",
    "\n",
    "hs_1_d = model_d.fit(X_train_d,y_train_d,batch_size = 128,epochs = 40,validation_data=(X_val_d, y_val_d))\n"
   ]
  },
  {
   "cell_type": "code",
   "execution_count": null,
   "metadata": {},
   "outputs": [],
   "source": [
    "model_d.save(\"Model_3-TextCNN-Glove.840B-1e-5-1\") # 9231 36th, 9209 40th"
   ]
  },
  {
   "cell_type": "code",
   "execution_count": 28,
   "metadata": {},
   "outputs": [
    {
     "name": "stdout",
     "output_type": "stream",
     "text": [
      "Train on 9051 samples, validate on 2263 samples\n",
      "Epoch 1/40\n",
      "9051/9051 [==============================] - 189s 21ms/step - loss: 0.0173 - acc: 0.9975 - val_loss: 0.3402 - val_acc: 0.9205\n",
      "Epoch 2/40\n",
      "9051/9051 [==============================] - 183s 20ms/step - loss: 0.0145 - acc: 0.9982 - val_loss: 0.3348 - val_acc: 0.9218\n",
      "Epoch 3/40\n",
      "9051/9051 [==============================] - 184s 20ms/step - loss: 0.0152 - acc: 0.9982 - val_loss: 0.3359 - val_acc: 0.9209\n",
      "Epoch 4/40\n",
      "9051/9051 [==============================] - 185s 20ms/step - loss: 0.0148 - acc: 0.9977 - val_loss: 0.3450 - val_acc: 0.9178\n",
      "Epoch 5/40\n",
      "9051/9051 [==============================] - 184s 20ms/step - loss: 0.0134 - acc: 0.9983 - val_loss: 0.3442 - val_acc: 0.9200\n",
      "Epoch 6/40\n",
      "9051/9051 [==============================] - 184s 20ms/step - loss: 0.0134 - acc: 0.9982 - val_loss: 0.3545 - val_acc: 0.9107\n",
      "Epoch 7/40\n",
      "9051/9051 [==============================] - 184s 20ms/step - loss: 0.0108 - acc: 0.9988 - val_loss: 0.3377 - val_acc: 0.9160\n",
      "Epoch 8/40\n",
      "9051/9051 [==============================] - 184s 20ms/step - loss: 0.0116 - acc: 0.9982 - val_loss: 0.3452 - val_acc: 0.9169\n",
      "Epoch 9/40\n",
      "9051/9051 [==============================] - 184s 20ms/step - loss: 0.0113 - acc: 0.9983 - val_loss: 0.3382 - val_acc: 0.9187\n",
      "Epoch 10/40\n",
      "9051/9051 [==============================] - 184s 20ms/step - loss: 0.0112 - acc: 0.9986 - val_loss: 0.3360 - val_acc: 0.9169\n",
      "Epoch 11/40\n",
      "9051/9051 [==============================] - 252s 28ms/step - loss: 0.0102 - acc: 0.9986 - val_loss: 0.3475 - val_acc: 0.9156\n",
      "Epoch 12/40\n",
      "9051/9051 [==============================] - 246s 27ms/step - loss: 0.0113 - acc: 0.9981 - val_loss: 0.3334 - val_acc: 0.9183\n",
      "Epoch 13/40\n",
      "9051/9051 [==============================] - 251s 28ms/step - loss: 0.0101 - acc: 0.9988 - val_loss: 0.3303 - val_acc: 0.9213\n",
      "Epoch 14/40\n",
      "9051/9051 [==============================] - 257s 28ms/step - loss: 0.0090 - acc: 0.9988 - val_loss: 0.3252 - val_acc: 0.9213\n",
      "Epoch 15/40\n",
      "9051/9051 [==============================] - 247s 27ms/step - loss: 0.0098 - acc: 0.9988 - val_loss: 0.3289 - val_acc: 0.9213\n",
      "Epoch 16/40\n",
      "9051/9051 [==============================] - 243s 27ms/step - loss: 0.0112 - acc: 0.9982 - val_loss: 0.3284 - val_acc: 0.9227\n",
      "Epoch 17/40\n",
      "9051/9051 [==============================] - 257s 28ms/step - loss: 0.0079 - acc: 0.9991 - val_loss: 0.3242 - val_acc: 0.9218\n",
      "Epoch 18/40\n",
      "9051/9051 [==============================] - 241s 27ms/step - loss: 0.0083 - acc: 0.9990 - val_loss: 0.3228 - val_acc: 0.9213\n",
      "Epoch 19/40\n",
      "9051/9051 [==============================] - 255s 28ms/step - loss: 0.0061 - acc: 0.9990 - val_loss: 0.3202 - val_acc: 0.9236\n",
      "Epoch 20/40\n",
      "9051/9051 [==============================] - 247s 27ms/step - loss: 0.0066 - acc: 0.9990 - val_loss: 0.3241 - val_acc: 0.9231\n",
      "Epoch 21/40\n",
      "9051/9051 [==============================] - 196s 22ms/step - loss: 0.0069 - acc: 0.9996 - val_loss: 0.3353 - val_acc: 0.9222\n",
      "Epoch 22/40\n",
      "9051/9051 [==============================] - 187s 21ms/step - loss: 0.0065 - acc: 0.9991 - val_loss: 0.3332 - val_acc: 0.9213\n",
      "Epoch 23/40\n",
      "9051/9051 [==============================] - 185s 20ms/step - loss: 0.0065 - acc: 0.9994 - val_loss: 0.3287 - val_acc: 0.9200\n",
      "Epoch 24/40\n",
      "9051/9051 [==============================] - 185s 20ms/step - loss: 0.0066 - acc: 0.9990 - val_loss: 0.3218 - val_acc: 0.9231\n",
      "Epoch 25/40\n",
      "9051/9051 [==============================] - 185s 20ms/step - loss: 0.0071 - acc: 0.9990 - val_loss: 0.3214 - val_acc: 0.9258\n",
      "Epoch 26/40\n",
      "9051/9051 [==============================] - 187s 21ms/step - loss: 0.0063 - acc: 0.9994 - val_loss: 0.3296 - val_acc: 0.9213\n",
      "Epoch 27/40\n",
      "9051/9051 [==============================] - 187s 21ms/step - loss: 0.0062 - acc: 0.9994 - val_loss: 0.3332 - val_acc: 0.9213\n",
      "Epoch 28/40\n",
      "9051/9051 [==============================] - 185s 20ms/step - loss: 0.0056 - acc: 0.9994 - val_loss: 0.3281 - val_acc: 0.9218\n",
      "Epoch 29/40\n",
      "9051/9051 [==============================] - 188s 21ms/step - loss: 0.0064 - acc: 0.9991 - val_loss: 0.3257 - val_acc: 0.9200\n",
      "Epoch 30/40\n",
      "9051/9051 [==============================] - 185s 20ms/step - loss: 0.0045 - acc: 0.9996 - val_loss: 0.3200 - val_acc: 0.9262\n",
      "Epoch 31/40\n",
      "9051/9051 [==============================] - 185s 20ms/step - loss: 0.0050 - acc: 0.9992 - val_loss: 0.3221 - val_acc: 0.9240\n",
      "Epoch 32/40\n",
      "9051/9051 [==============================] - 185s 20ms/step - loss: 0.0045 - acc: 0.9996 - val_loss: 0.3262 - val_acc: 0.9213\n",
      "Epoch 33/40\n",
      "9051/9051 [==============================] - 185s 20ms/step - loss: 0.0055 - acc: 0.9991 - val_loss: 0.3251 - val_acc: 0.9205\n",
      "Epoch 34/40\n",
      "9051/9051 [==============================] - 185s 20ms/step - loss: 0.0053 - acc: 0.9994 - val_loss: 0.3199 - val_acc: 0.9253\n",
      "Epoch 35/40\n",
      "9051/9051 [==============================] - 190s 21ms/step - loss: 0.0041 - acc: 0.9997 - val_loss: 0.3241 - val_acc: 0.9222\n",
      "Epoch 36/40\n",
      "9051/9051 [==============================] - 249s 28ms/step - loss: 0.0070 - acc: 0.9989 - val_loss: 0.3316 - val_acc: 0.9200\n",
      "Epoch 37/40\n",
      "9051/9051 [==============================] - 255s 28ms/step - loss: 0.0073 - acc: 0.9989 - val_loss: 0.3214 - val_acc: 0.9231\n",
      "Epoch 38/40\n",
      "9051/9051 [==============================] - 256s 28ms/step - loss: 0.0045 - acc: 0.9993 - val_loss: 0.3259 - val_acc: 0.9209\n",
      "Epoch 39/40\n",
      "9051/9051 [==============================] - 247s 27ms/step - loss: 0.0050 - acc: 0.9994 - val_loss: 0.3407 - val_acc: 0.9129\n",
      "Epoch 40/40\n",
      "9051/9051 [==============================] - 243s 27ms/step - loss: 0.0036 - acc: 0.9996 - val_loss: 0.3364 - val_acc: 0.9218\n"
     ]
    }
   ],
   "source": [
    "loaded_model = load_model(\"Model_3-TextCNN-Glove.840B-1e-5-1\")\n",
    "config_d = loaded_model.get_config()\n",
    "weights_d = loaded_model.get_weights()\n",
    "config_d[\"layers\"][21][\"config\"][\"kernel_regularizer\"][\"config\"][\"l2\"] = 1e-4\n",
    "\n",
    "model_d_L2_up = Model.from_config(config_d) # the only change is: increasing l2 from 1e-5 to 1e-4 due to sign of overfitting\n",
    "model_d_L2_up.set_weights(weights_d)\n",
    "\n",
    "optimizer = optimizers.RMSprop(lr=0.001, rho=0.9, epsilon=None)#\n",
    "model_d_L2_up.compile(loss = 'categorical_crossentropy',optimizer=optimizer,metrics=['acc'])\n",
    "\n",
    "\n",
    "hs_up_1_d = model_d_L2_up.fit(X_train_d,y_train_d,batch_size = 128,epochs = 40,validation_data=(X_val_d, y_val_d))"
   ]
  },
  {
   "cell_type": "code",
   "execution_count": 29,
   "metadata": {},
   "outputs": [],
   "source": [
    "model_d_L2_up.save(\"Model_3-TextCNN-Glove.840B-1e-5-2\") # 9262 30th 9258 25th 9253 34th"
   ]
  },
  {
   "cell_type": "code",
   "execution_count": 30,
   "metadata": {},
   "outputs": [
    {
     "name": "stdout",
     "output_type": "stream",
     "text": [
      "Train on 9051 samples, validate on 2263 samples\n",
      "Epoch 1/40\n",
      "9051/9051 [==============================] - 246s 27ms/step - loss: 0.0030 - acc: 0.9999 - val_loss: 0.3259 - val_acc: 0.9205\n",
      "Epoch 2/40\n",
      "9051/9051 [==============================] - 249s 28ms/step - loss: 0.0033 - acc: 0.9997 - val_loss: 0.3227 - val_acc: 0.9227\n",
      "Epoch 3/40\n",
      "9051/9051 [==============================] - 245s 27ms/step - loss: 0.0031 - acc: 0.9998 - val_loss: 0.3177 - val_acc: 0.9218\n",
      "Epoch 4/40\n",
      "9051/9051 [==============================] - 187s 21ms/step - loss: 0.0041 - acc: 0.9991 - val_loss: 0.3228 - val_acc: 0.9249\n",
      "Epoch 5/40\n",
      "9051/9051 [==============================] - 186s 21ms/step - loss: 0.0038 - acc: 0.9996 - val_loss: 0.3176 - val_acc: 0.9240\n",
      "Epoch 6/40\n",
      "9051/9051 [==============================] - 185s 20ms/step - loss: 0.0027 - acc: 0.9997 - val_loss: 0.3217 - val_acc: 0.9240\n",
      "Epoch 7/40\n",
      "9051/9051 [==============================] - 185s 20ms/step - loss: 0.0039 - acc: 0.9994 - val_loss: 0.3157 - val_acc: 0.9231\n",
      "Epoch 8/40\n",
      "9051/9051 [==============================] - 185s 20ms/step - loss: 0.0033 - acc: 0.9997 - val_loss: 0.3192 - val_acc: 0.9227\n",
      "Epoch 9/40\n",
      "9051/9051 [==============================] - 185s 20ms/step - loss: 0.0033 - acc: 0.9996 - val_loss: 0.3176 - val_acc: 0.9227\n",
      "Epoch 10/40\n",
      "9051/9051 [==============================] - 222s 25ms/step - loss: 0.0030 - acc: 0.9996 - val_loss: 0.3137 - val_acc: 0.9205\n",
      "Epoch 11/40\n",
      "9051/9051 [==============================] - 250s 28ms/step - loss: 0.0026 - acc: 0.9998 - val_loss: 0.3110 - val_acc: 0.9236\n",
      "Epoch 12/40\n",
      "9051/9051 [==============================] - 249s 28ms/step - loss: 0.0029 - acc: 0.9997 - val_loss: 0.3147 - val_acc: 0.9227\n",
      "Epoch 13/40\n",
      "9051/9051 [==============================] - 256s 28ms/step - loss: 0.0040 - acc: 0.9991 - val_loss: 0.3148 - val_acc: 0.9222\n",
      "Epoch 14/40\n",
      "9051/9051 [==============================] - 218s 24ms/step - loss: 0.0022 - acc: 0.9998 - val_loss: 0.3171 - val_acc: 0.9205\n",
      "Epoch 15/40\n",
      "9051/9051 [==============================] - 190s 21ms/step - loss: 0.0027 - acc: 0.9996 - val_loss: 0.3145 - val_acc: 0.9205\n",
      "Epoch 16/40\n",
      "9051/9051 [==============================] - 189s 21ms/step - loss: 0.0022 - acc: 0.9998 - val_loss: 0.3131 - val_acc: 0.9244\n",
      "Epoch 17/40\n",
      "9051/9051 [==============================] - 189s 21ms/step - loss: 0.0028 - acc: 0.9996 - val_loss: 0.3149 - val_acc: 0.9213\n",
      "Epoch 18/40\n",
      "9051/9051 [==============================] - 188s 21ms/step - loss: 0.0031 - acc: 0.9994 - val_loss: 0.3081 - val_acc: 0.9249\n",
      "Epoch 19/40\n",
      "9051/9051 [==============================] - 188s 21ms/step - loss: 0.0025 - acc: 0.9998 - val_loss: 0.3108 - val_acc: 0.9222\n",
      "Epoch 20/40\n",
      "9051/9051 [==============================] - 188s 21ms/step - loss: 0.0024 - acc: 0.9997 - val_loss: 0.3190 - val_acc: 0.9187\n",
      "Epoch 21/40\n",
      "9051/9051 [==============================] - 248s 27ms/step - loss: 0.0021 - acc: 0.9998 - val_loss: 0.3075 - val_acc: 0.9222\n",
      "Epoch 22/40\n",
      "9051/9051 [==============================] - 244s 27ms/step - loss: 0.0023 - acc: 0.9998 - val_loss: 0.3109 - val_acc: 0.9227\n",
      "Epoch 23/40\n",
      "9051/9051 [==============================] - 258s 29ms/step - loss: 0.0021 - acc: 0.9998 - val_loss: 0.3175 - val_acc: 0.9209\n",
      "Epoch 24/40\n",
      "9051/9051 [==============================] - 245s 27ms/step - loss: 0.0024 - acc: 0.9998 - val_loss: 0.3138 - val_acc: 0.9209\n",
      "Epoch 25/40\n",
      "9051/9051 [==============================] - 253s 28ms/step - loss: 0.0015 - acc: 1.0000 - val_loss: 0.3129 - val_acc: 0.9231\n",
      "Epoch 26/40\n",
      "9051/9051 [==============================] - 257s 28ms/step - loss: 0.0021 - acc: 0.9998 - val_loss: 0.3116 - val_acc: 0.9222\n",
      "Epoch 27/40\n",
      "9051/9051 [==============================] - 252s 28ms/step - loss: 0.0024 - acc: 0.9997 - val_loss: 0.3177 - val_acc: 0.9209\n",
      "Epoch 28/40\n",
      "9051/9051 [==============================] - 258s 29ms/step - loss: 0.0027 - acc: 0.9994 - val_loss: 0.3127 - val_acc: 0.9227\n",
      "Epoch 29/40\n",
      "9051/9051 [==============================] - 251s 28ms/step - loss: 0.0019 - acc: 0.9998 - val_loss: 0.3117 - val_acc: 0.9222\n",
      "Epoch 30/40\n",
      "9051/9051 [==============================] - 250s 28ms/step - loss: 0.0022 - acc: 0.9997 - val_loss: 0.3144 - val_acc: 0.9222\n",
      "Epoch 31/40\n",
      "9051/9051 [==============================] - 245s 27ms/step - loss: 0.0022 - acc: 0.9999 - val_loss: 0.3081 - val_acc: 0.9218\n",
      "Epoch 32/40\n",
      "9051/9051 [==============================] - 251s 28ms/step - loss: 0.0021 - acc: 0.9997 - val_loss: 0.3061 - val_acc: 0.9231\n",
      "Epoch 33/40\n",
      "9051/9051 [==============================] - 239s 26ms/step - loss: 0.0018 - acc: 0.9997 - val_loss: 0.3123 - val_acc: 0.9209\n",
      "Epoch 34/40\n",
      "9051/9051 [==============================] - 206s 23ms/step - loss: 0.0017 - acc: 0.9999 - val_loss: 0.3097 - val_acc: 0.9222\n",
      "Epoch 35/40\n",
      "9051/9051 [==============================] - 205s 23ms/step - loss: 0.0020 - acc: 0.9997 - val_loss: 0.3103 - val_acc: 0.9222\n",
      "Epoch 36/40\n",
      "9051/9051 [==============================] - 196s 22ms/step - loss: 0.0016 - acc: 0.9999 - val_loss: 0.3131 - val_acc: 0.9196\n",
      "Epoch 37/40\n",
      "9051/9051 [==============================] - 191s 21ms/step - loss: 0.0024 - acc: 0.9997 - val_loss: 0.3130 - val_acc: 0.9205\n",
      "Epoch 38/40\n",
      "9051/9051 [==============================] - 196s 22ms/step - loss: 0.0024 - acc: 0.9998 - val_loss: 0.3211 - val_acc: 0.9165\n",
      "Epoch 39/40\n",
      "9051/9051 [==============================] - 195s 22ms/step - loss: 0.0021 - acc: 0.9997 - val_loss: 0.3118 - val_acc: 0.9231\n",
      "Epoch 40/40\n",
      "9051/9051 [==============================] - 194s 21ms/step - loss: 0.0019 - acc: 0.9998 - val_loss: 0.3077 - val_acc: 0.9222\n"
     ]
    }
   ],
   "source": [
    "optimizer = optimizers.RMSprop(lr=0.0005, rho=0.9, epsilon=None)#'rmsprop', decay=0.1\n",
    "model_d_L2_up.compile(loss = 'categorical_crossentropy',optimizer=optimizer,metrics=['acc'])\n",
    "\n",
    "\n",
    "hs_up_2_d = model_d_L2_up.fit(X_train_d,y_train_d,batch_size = 128,epochs = 40,validation_data=(X_val_d, y_val_d))"
   ]
  },
  {
   "cell_type": "code",
   "execution_count": 31,
   "metadata": {},
   "outputs": [],
   "source": [
    "model_d_L2_up.save(\"Model_3-TextCNN-Glove.840B-1e-5-3\") # 9249 4th 18th"
   ]
  },
  {
   "cell_type": "code",
   "execution_count": 35,
   "metadata": {},
   "outputs": [
    {
     "name": "stdout",
     "output_type": "stream",
     "text": [
      "Train on 9051 samples, validate on 2263 samples\n",
      "Epoch 1/40\n",
      "9051/9051 [==============================] - 190s 21ms/step - loss: 0.0011 - acc: 1.0000 - val_loss: 0.3063 - val_acc: 0.9222\n",
      "Epoch 2/40\n",
      "9051/9051 [==============================] - 198s 22ms/step - loss: 0.0012 - acc: 1.0000 - val_loss: 0.3097 - val_acc: 0.9249\n",
      "Epoch 3/40\n",
      "9051/9051 [==============================] - 195s 21ms/step - loss: 0.0014 - acc: 0.9998 - val_loss: 0.3055 - val_acc: 0.9222\n",
      "Epoch 4/40\n",
      "9051/9051 [==============================] - 199s 22ms/step - loss: 0.0011 - acc: 1.0000 - val_loss: 0.3062 - val_acc: 0.9222\n",
      "Epoch 5/40\n",
      "9051/9051 [==============================] - 197s 22ms/step - loss: 0.0015 - acc: 0.9999 - val_loss: 0.3076 - val_acc: 0.9231\n",
      "Epoch 6/40\n",
      "9051/9051 [==============================] - 192s 21ms/step - loss: 0.0015 - acc: 0.9998 - val_loss: 0.3035 - val_acc: 0.9222\n",
      "Epoch 7/40\n",
      "9051/9051 [==============================] - 194s 21ms/step - loss: 0.0015 - acc: 0.9998 - val_loss: 0.3079 - val_acc: 0.9222\n",
      "Epoch 8/40\n",
      "9051/9051 [==============================] - 194s 21ms/step - loss: 0.0015 - acc: 0.9998 - val_loss: 0.3093 - val_acc: 0.9227\n",
      "Epoch 9/40\n",
      "9051/9051 [==============================] - 208s 23ms/step - loss: 0.0011 - acc: 0.9999 - val_loss: 0.3061 - val_acc: 0.9236\n",
      "Epoch 10/40\n",
      "9051/9051 [==============================] - 199s 22ms/step - loss: 0.0017 - acc: 0.9997 - val_loss: 0.3059 - val_acc: 0.9240\n",
      "Epoch 11/40\n",
      "9051/9051 [==============================] - 224s 25ms/step - loss: 0.0014 - acc: 0.9997 - val_loss: 0.3053 - val_acc: 0.9213\n",
      "Epoch 12/40\n",
      "9051/9051 [==============================] - 209s 23ms/step - loss: 0.0010 - acc: 1.0000 - val_loss: 0.3086 - val_acc: 0.9249\n",
      "Epoch 13/40\n",
      "9051/9051 [==============================] - 203s 22ms/step - loss: 0.0010 - acc: 1.0000 - val_loss: 0.3116 - val_acc: 0.9218\n",
      "Epoch 14/40\n",
      "9051/9051 [==============================] - 201s 22ms/step - loss: 0.0012 - acc: 0.9998 - val_loss: 0.3102 - val_acc: 0.9227\n",
      "Epoch 15/40\n",
      "9051/9051 [==============================] - 204s 23ms/step - loss: 0.0012 - acc: 0.9998 - val_loss: 0.3075 - val_acc: 0.9231\n",
      "Epoch 16/40\n",
      "9051/9051 [==============================] - 190s 21ms/step - loss: 0.0016 - acc: 0.9997 - val_loss: 0.3078 - val_acc: 0.9218\n",
      "Epoch 17/40\n",
      "9051/9051 [==============================] - 187s 21ms/step - loss: 0.0013 - acc: 0.9999 - val_loss: 0.3102 - val_acc: 0.9231\n",
      "Epoch 18/40\n",
      "9051/9051 [==============================] - 187s 21ms/step - loss: 0.0013 - acc: 0.9998 - val_loss: 0.3087 - val_acc: 0.9222\n",
      "Epoch 19/40\n",
      "9051/9051 [==============================] - 187s 21ms/step - loss: 0.0011 - acc: 1.0000 - val_loss: 0.3085 - val_acc: 0.9236\n",
      "Epoch 20/40\n",
      "9051/9051 [==============================] - 186s 21ms/step - loss: 0.0014 - acc: 0.9999 - val_loss: 0.3077 - val_acc: 0.9213\n",
      "Epoch 21/40\n",
      "9051/9051 [==============================] - 186s 21ms/step - loss: 0.0012 - acc: 0.9998 - val_loss: 0.3082 - val_acc: 0.9218\n",
      "Epoch 22/40\n",
      "9051/9051 [==============================] - 215s 24ms/step - loss: 0.0014 - acc: 0.9998 - val_loss: 0.3064 - val_acc: 0.9222\n",
      "Epoch 23/40\n",
      "9051/9051 [==============================] - 190s 21ms/step - loss: 0.0015 - acc: 0.9997 - val_loss: 0.3142 - val_acc: 0.9200\n",
      "Epoch 24/40\n",
      "9051/9051 [==============================] - 187s 21ms/step - loss: 0.0010 - acc: 1.0000 - val_loss: 0.3082 - val_acc: 0.9213\n",
      "Epoch 25/40\n",
      "9051/9051 [==============================] - 195s 21ms/step - loss: 9.1464e-04 - acc: 1.0000 - val_loss: 0.3064 - val_acc: 0.9222\n",
      "Epoch 26/40\n",
      "9051/9051 [==============================] - 190s 21ms/step - loss: 0.0015 - acc: 0.9997 - val_loss: 0.3075 - val_acc: 0.9236\n",
      "Epoch 27/40\n",
      "9051/9051 [==============================] - 188s 21ms/step - loss: 0.0014 - acc: 0.9998 - val_loss: 0.3081 - val_acc: 0.9227\n",
      "Epoch 28/40\n",
      "9051/9051 [==============================] - 187s 21ms/step - loss: 0.0010 - acc: 0.9999 - val_loss: 0.3090 - val_acc: 0.9213\n",
      "Epoch 29/40\n",
      "9051/9051 [==============================] - 196s 22ms/step - loss: 0.0016 - acc: 0.9997 - val_loss: 0.3076 - val_acc: 0.9227\n",
      "Epoch 30/40\n",
      "9051/9051 [==============================] - 212s 23ms/step - loss: 9.1095e-04 - acc: 1.0000 - val_loss: 0.3089 - val_acc: 0.9213\n",
      "Epoch 31/40\n",
      "9051/9051 [==============================] - 190s 21ms/step - loss: 0.0010 - acc: 0.9999 - val_loss: 0.3072 - val_acc: 0.9205\n",
      "Epoch 32/40\n",
      "9051/9051 [==============================] - 200s 22ms/step - loss: 0.0013 - acc: 0.9997 - val_loss: 0.3111 - val_acc: 0.9209\n",
      "Epoch 33/40\n",
      "9051/9051 [==============================] - 202s 22ms/step - loss: 0.0015 - acc: 0.9997 - val_loss: 0.3064 - val_acc: 0.9218\n",
      "Epoch 34/40\n",
      "9051/9051 [==============================] - 191s 21ms/step - loss: 0.0017 - acc: 0.9997 - val_loss: 0.3072 - val_acc: 0.9222\n",
      "Epoch 35/40\n",
      "9051/9051 [==============================] - 191s 21ms/step - loss: 0.0015 - acc: 0.9996 - val_loss: 0.3123 - val_acc: 0.9218\n",
      "Epoch 36/40\n",
      "9051/9051 [==============================] - 191s 21ms/step - loss: 0.0013 - acc: 0.9998 - val_loss: 0.3137 - val_acc: 0.9200\n",
      "Epoch 37/40\n",
      "9051/9051 [==============================] - 196s 22ms/step - loss: 0.0013 - acc: 0.9998 - val_loss: 0.3064 - val_acc: 0.9209\n",
      "Epoch 38/40\n",
      "9051/9051 [==============================] - 191s 21ms/step - loss: 0.0012 - acc: 0.9997 - val_loss: 0.3115 - val_acc: 0.9227\n",
      "Epoch 39/40\n",
      "9051/9051 [==============================] - 190s 21ms/step - loss: 0.0012 - acc: 0.9998 - val_loss: 0.3064 - val_acc: 0.9231\n",
      "Epoch 40/40\n",
      "9051/9051 [==============================] - 190s 21ms/step - loss: 0.0011 - acc: 0.9998 - val_loss: 0.3107 - val_acc: 0.9231\n"
     ]
    }
   ],
   "source": [
    "optimizer = optimizers.RMSprop(lr=0.0002, rho=0.9, epsilon=None)#\n",
    "model_d_L2_up.compile(loss = 'categorical_crossentropy',optimizer=optimizer,metrics=['acc'])\n",
    "\n",
    "\n",
    "hs_up_3_d = model_d_L2_up.fit(X_train_d,y_train_d,batch_size = 128,epochs = 40,validation_data=(X_val_d, y_val_d))"
   ]
  },
  {
   "cell_type": "code",
   "execution_count": 36,
   "metadata": {},
   "outputs": [],
   "source": [
    "model_d_L2_up.save(\"Model_3-TextCNN-Glove.840B-1e-5-4\") # 9249 2th 12th"
   ]
  },
  {
   "cell_type": "code",
   "execution_count": 92,
   "metadata": {},
   "outputs": [],
   "source": [
    "def draw_performance(history_list,n_epochs_per_hs):\n",
    "# history_list: list of histories\n",
    "# n_epochs_per_hs: the number of epochs per history\n",
    "\n",
    "    hs_keys = list(history_list[0].history.keys())\n",
    "    labels = hs_keys\n",
    "    clr = ['r','orange','green','b']\n",
    "    fig = plt.figure(figsize = (16,9))\n",
    "    n_epochs = n_epochs_per_hs * len(history_list)\n",
    "\n",
    "    for i in range(len(history_list)):\n",
    "        for j,key in enumerate(hs_keys): \n",
    "            plt.plot(range(i*n_epochs_per_hs,(i+1)*n_epochs_per_hs),history_list[i].history[key],clr[j])\n",
    "    plt.legend(labels)\n",
    "    plt.grid(True,linestyle = \"-\",color = 'k',linewidth = 0.1)\n",
    "    plt.xticks(np.arange(0,n_epochs,10))\n",
    "    plt.yticks(np.arange(0,3,0.1))\n",
    "    \n",
    "    plt.show()"
   ]
  },
  {
   "cell_type": "code",
   "execution_count": 29,
   "metadata": {},
   "outputs": [
    {
     "data": {
      "image/png": "[encoded data removed]",
      "text/plain": [
       "<matplotlib.figure.Figure at 0x1a26fabb00>"
      ]
     },
     "metadata": {},
     "output_type": "display_data"
    }
   ],
   "source": [
    "# The following graph shows performance of the first 120 epochs of the model\n",
    "history_list = [hs_1_d,hs_up_1_d,hs_up_2_d]\n",
    "n_epochs_per_hs = 40\n",
    "\n",
    "draw_performance(history_list,n_epochs_per_hs)"
   ]
  },
  {
   "cell_type": "code",
   "execution_count": 93,
   "metadata": {},
   "outputs": [
    {
     "data": {
      "image/png": "[encoded data removed]",
      "text/plain": [
       "<matplotlib.figure.Figure at 0x1aaf89d1d0>"
      ]
     },
     "metadata": {},
     "output_type": "display_data"
    }
   ],
   "source": [
    "# The following graph shows performance of the model from epoch 41.\n",
    "history_list = [hs_up_1_d,hs_up_2_d,hs_up_3_d]\n",
    "n_epochs_per_hs = 40\n",
    "\n",
    "draw_performance(history_list,n_epochs_per_hs)"
   ]
  },
  {
   "cell_type": "markdown",
   "metadata": {},
   "source": [
    "## Evaluation"
   ]
  },
  {
   "cell_type": "code",
   "execution_count": 38,
   "metadata": {},
   "outputs": [],
   "source": [
    "# split the test dataset into two part, so as to compare whether the model gives similar performance on different test data.\n",
    "X_test_1 = data_test[:int(len(data_test)*0.4)]\n",
    "X_test_2 = data_test[int(len(data_test)*0.4):]\n",
    "\n",
    "y_test_1 = targets_test[:int(len(data_test)*0.4)]\n",
    "y_test_2 = targets_test[int(len(data_test)*0.4):]"
   ]
  },
  {
   "cell_type": "code",
   "execution_count": 78,
   "metadata": {},
   "outputs": [],
   "source": [
    "def test(model,X1,y1,X2,y2):\n",
    "    acc1 = model.evaluate(X1,y1)[1]\n",
    "    acc2 = model.evaluate(X2,y2)[1]\n",
    "    acc_avg = acc1*0.4 + acc2*0.6\n",
    "    \n",
    "    return acc1,acc2,acc_avg"
   ]
  },
  {
   "cell_type": "code",
   "execution_count": 94,
   "metadata": {},
   "outputs": [],
   "source": [
    "model_test = load_model(\"Model_3-TextCNN-Glove.840B-1e-5-4\")"
   ]
  },
  {
   "cell_type": "code",
   "execution_count": 95,
   "metadata": {},
   "outputs": [
    {
     "name": "stdout",
     "output_type": "stream",
     "text": [
      "3012/3012 [==============================] - 14s 5ms/step\n",
      "4520/4520 [==============================] - 19s 4ms/step\n"
     ]
    },
    {
     "data": {
      "text/plain": [
       "(0.850265604249668, 0.856858407079646, 0.8542212859476548)"
      ]
     },
     "execution_count": 95,
     "metadata": {},
     "output_type": "execute_result"
    }
   ],
   "source": [
    "test(model_test,X_test_1,y_test_1,X_test_2,y_test_2)"
   ]
  }
 ],
 "metadata": {
  "kernelspec": {
   "display_name": "Python 3",
   "language": "python",
   "name": "python3"
  },
  "language_info": {
   "codemirror_mode": {
    "name": "ipython",
    "version": 3
   },
   "file_extension": ".py",
   "mimetype": "text/x-python",
   "name": "python",
   "nbconvert_exporter": "python",
   "pygments_lexer": "ipython3",
   "version": "3.5.4"
  }
 },
 "nbformat": 4,
 "nbformat_minor": 2
}
